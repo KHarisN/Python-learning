{
 "cells": [
  {
   "cell_type": "code",
   "execution_count": 2,
   "metadata": {},
   "outputs": [
    {
     "name": "stdout",
     "output_type": "stream",
     "text": [
      "Haris\n",
      "Hamza\n",
      "Shehryar\n",
      "Abdullah\n"
     ]
    }
   ],
   "source": [
    "#3-1\n",
    "names:list = ['Haris', 'Hamza', 'Shehryar', 'Abdullah']\n",
    "print(names[0])\n",
    "print(names[1])\n",
    "print(names[2])\n",
    "print(names[3])"
   ]
  },
  {
   "cell_type": "code",
   "execution_count": 3,
   "metadata": {},
   "outputs": [
    {
     "name": "stdout",
     "output_type": "stream",
     "text": [
      "Hello Haris\n",
      "Hello Hamza\n",
      "Hello Shehryar\n",
      "Hello Abdullah\n"
     ]
    }
   ],
   "source": [
    "#3-2\n",
    "message:str = \"Hello\"\n",
    "print(message, names[0])\n",
    "print(message, names[1])\n",
    "print(message, names[2])\n",
    "print(message, names[3])"
   ]
  },
  {
   "cell_type": "code",
   "execution_count": 9,
   "metadata": {},
   "outputs": [
    {
     "name": "stdout",
     "output_type": "stream",
     "text": [
      "I would like to own a Honda car\n",
      "I would like to own a Toyota car\n",
      "I would like to own a Audi car\n"
     ]
    }
   ],
   "source": [
    "#3-3 \n",
    "transport:list = ['Honda', 'Toyota', 'Audi']\n",
    "statement1:str = 'I would like to own a'\n",
    "statement2:str = 'car'\n",
    "print(f'{statement1} {transport[0]} {statement2}')\n",
    "print(f'{statement1} {transport[1]} {statement2}')\n",
    "print(f'{statement1} {transport[2]} {statement2}')"
   ]
  },
  {
   "cell_type": "code",
   "execution_count": 40,
   "metadata": {},
   "outputs": [
    {
     "name": "stdout",
     "output_type": "stream",
     "text": [
      "Can you come to dinner, Shakespeare ?\n",
      "Can you come to dinner, Eisenhower ?\n",
      "Can you come to dinner, McCarthy ?\n",
      "Eisenhower cannot make it\n",
      "Can you come to dinner, Shakespeare ?\n",
      "Can you come to dinner, John Donne ?\n",
      "Can you come to dinner, McCarthy ?\n",
      "we have found a bigger table\n",
      "Can you come to dinner, Qasim?\n",
      "Can you come to dinner, Shakespeare?\n",
      "Can you come to dinner, Saad?\n",
      "Can you come to dinner, John Donne?\n",
      "Can you come to dinner, McCarthy?\n",
      "Can you come to dinner, Umar?\n",
      "only 2 people can come to dinner\n",
      "Sorry Umar, I cannot invite you\n",
      "Sorry McCarthy, I cannot invite you\n",
      "Sorry John Donne, I cannot invite you\n",
      "Sorry Saad, I cannot invite you\n",
      "you are still invited, Qasim\n",
      "you are still invited, Shakespeare\n",
      "[]\n"
     ]
    }
   ],
   "source": [
    "#3-4 and 3-5 and 3-6 and 3-7\n",
    "people:list = ['Shakespeare', 'Eisenhower', 'McCarthy' ]\n",
    "newmessage:str = 'Can you come to dinner,'\n",
    "question:str = '?'\n",
    "print(f'{newmessage} {people[0]} {question}')\n",
    "print(f'{newmessage} {people[1]} {question}')\n",
    "print(f'{newmessage} {people[2]} {question}')\n",
    "print('Eisenhower cannot make it')\n",
    "people[1] = 'John Donne'\n",
    "print(f'{newmessage} {people[0]} {question}')\n",
    "print(f'{newmessage} {people[1]} {question}')\n",
    "print(f'{newmessage} {people[2]} {question}')\n",
    "print('we have found a bigger table')\n",
    "people.insert(0, 'Qasim')\n",
    "people.insert(2, 'Saad')\n",
    "people.append('Umar')\n",
    "for i in range(0,6):\n",
    "    print(f'Can you come to dinner, {people[i]}?')\n",
    "print('only 2 people can come to dinner')\n",
    "while len(people) > 2:\n",
    "    removed_guest = people.pop()\n",
    "    print(f'Sorry {removed_guest}, I cannot invite you')\n",
    "\n",
    "for i in range(0,2):\n",
    "    print(f'you are still invited, {people[i]}')\n",
    "\n",
    "del people[0]\n",
    "del people[0]\n",
    "print(people)\n",
    "\n",
    "    \n",
    "    \n",
    "   \n",
    "   \n",
    "\n",
    "\n"
   ]
  },
  {
   "cell_type": "code",
   "execution_count": 51,
   "metadata": {},
   "outputs": [
    {
     "name": "stdout",
     "output_type": "stream",
     "text": [
      "['Karachi', 'Islamabad', 'Oxford', 'Lahore', 'Quetta']\n",
      "['Islamabad', 'Karachi', 'Lahore', 'Oxford', 'Quetta']\n",
      "['Karachi', 'Islamabad', 'Oxford', 'Lahore', 'Quetta']\n",
      "['Quetta', 'Oxford', 'Lahore', 'Karachi', 'Islamabad']\n",
      "['Karachi', 'Islamabad', 'Oxford', 'Lahore', 'Quetta']\n",
      "['Quetta', 'Lahore', 'Oxford', 'Islamabad', 'Karachi']\n",
      "['Karachi', 'Islamabad', 'Oxford', 'Lahore', 'Quetta']\n",
      "['Islamabad', 'Karachi', 'Lahore', 'Oxford', 'Quetta']\n",
      "['Quetta', 'Oxford', 'Lahore', 'Karachi', 'Islamabad']\n"
     ]
    }
   ],
   "source": [
    "#3-8\n",
    "places: list = ['Karachi', 'Islamabad', 'Oxford', 'Lahore', 'Quetta']\n",
    "print(places)\n",
    "newlist = sorted(places)\n",
    "print(newlist)\n",
    "print(places)\n",
    "newlist2 = sorted(places, reverse=True)\n",
    "print(newlist2)\n",
    "print(places)\n",
    "places.reverse()\n",
    "print(places)\n",
    "places.reverse()\n",
    "print(places)\n",
    "places.sort()\n",
    "print(places)\n",
    "places.sort(reverse=True)\n",
    "print(places)\n"
   ]
  }
 ],
 "metadata": {
  "kernelspec": {
   "display_name": "Python 3",
   "language": "python",
   "name": "python3"
  },
  "language_info": {
   "codemirror_mode": {
    "name": "ipython",
    "version": 3
   },
   "file_extension": ".py",
   "mimetype": "text/x-python",
   "name": "python",
   "nbconvert_exporter": "python",
   "pygments_lexer": "ipython3",
   "version": "3.12.4"
  }
 },
 "nbformat": 4,
 "nbformat_minor": 2
}
