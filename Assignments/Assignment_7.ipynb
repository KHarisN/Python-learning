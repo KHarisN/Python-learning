{
 "cells": [
  {
   "cell_type": "code",
   "execution_count": 40,
   "metadata": {},
   "outputs": [
    {
     "name": "stdout",
     "output_type": "stream",
     "text": [
      "Hello, Haris\n"
     ]
    }
   ],
   "source": [
    "num1:int \n",
    "num2:int\n",
    "num3:int\n",
    "number: int\n",
    "numberstate: str\n",
    "name= input(\"Enter your name\")\n",
    "num1 = int(input(\"Enter your favourite number\"))\n",
    "num2 = int(input(\"Enter your favourite number\"))\n",
    "num3 = int(input(\"Enter your favourite number\"))\n",
    "print(f\"Hello, {name}\")\n"
   ]
  },
  {
   "cell_type": "code",
   "execution_count": 41,
   "metadata": {},
   "outputs": [
    {
     "name": "stdout",
     "output_type": "stream",
     "text": [
      "[1, 2, 4]\n"
     ]
    }
   ],
   "source": [
    "favouritenumbers: list = [num1, num2, num3]\n",
    "print(favouritenumbers)"
   ]
  },
  {
   "cell_type": "code",
   "execution_count": 42,
   "metadata": {},
   "outputs": [
    {
     "name": "stdout",
     "output_type": "stream",
     "text": [
      "1 , odd\n",
      "(1, 'odd')\n",
      "2 , even\n",
      "(2, 'even')\n",
      "4 , even\n",
      "(4, 'even')\n"
     ]
    }
   ],
   "source": [
    "for number in range (0,3):\n",
    "    if int(favouritenumbers[number]) % 2 == 1 :\n",
    "        numberstate = \"odd\"\n",
    "    elif int(favouritenumbers[number]) % 2 == 0 :\n",
    "        numberstate = \"even\"\n",
    "\n",
    "    print(f\"{favouritenumbers[number]} , {numberstate}\")\n",
    "    tuple = (favouritenumbers[number] , numberstate)\n",
    "    print(tuple)\n",
    "    \n",
    "\n"
   ]
  },
  {
   "cell_type": "code",
   "execution_count": 43,
   "metadata": {},
   "outputs": [
    {
     "name": "stdout",
     "output_type": "stream",
     "text": [
      "(1, 1)\n",
      "(2, 4)\n",
      "(4, 16)\n"
     ]
    }
   ],
   "source": [
    "for number in range (0,3):\n",
    "    square = favouritenumbers[number] * favouritenumbers[number]\n",
    "    newtuple = (favouritenumbers[number] , square)\n",
    "    print(newtuple)"
   ]
  },
  {
   "cell_type": "code",
   "execution_count": 46,
   "metadata": {},
   "outputs": [
    {
     "name": "stdout",
     "output_type": "stream",
     "text": [
      "7\n",
      "Sum is prime\n"
     ]
    }
   ],
   "source": [
    "sum = 0\n",
    "for number in range(0,3):\n",
    "    sum = favouritenumbers[number] + sum\n",
    "\n",
    "print(sum)\n",
    "if sum > 1:\n",
    "  \n",
    "    # Iterate from 2 to n // 2\n",
    "    for i in range(2, (sum // 2)+1):\n",
    "        if (sum % i) == 0:\n",
    "            print(\"Sum is not prime\")\n",
    "            break \n",
    "        else:\n",
    "            print(\"Sum is prime\")\n",
    "            break"
   ]
  }
 ],
 "metadata": {
  "kernelspec": {
   "display_name": "Python 3",
   "language": "python",
   "name": "python3"
  },
  "language_info": {
   "codemirror_mode": {
    "name": "ipython",
    "version": 3
   },
   "file_extension": ".py",
   "mimetype": "text/x-python",
   "name": "python",
   "nbconvert_exporter": "python",
   "pygments_lexer": "ipython3",
   "version": "3.12.4"
  }
 },
 "nbformat": 4,
 "nbformat_minor": 2
}
